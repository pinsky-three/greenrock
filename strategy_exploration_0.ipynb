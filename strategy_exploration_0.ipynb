{
 "cells": [
  {
   "cell_type": "code",
   "execution_count": 6,
   "id": "e9abb1fa-a851-45fb-a0fe-e4ae97fb85fc",
   "metadata": {},
   "outputs": [
    {
     "name": "stdout",
     "output_type": "stream",
     "text": [
      "  % Total    % Received % Xferd  Average Speed   Time    Time     Time  Current\n",
      "                                 Dload  Upload   Total   Spent    Left  Speed\n",
      "100  2502  100  2502    0     0   3856      0 --:--:-- --:--:-- --:--:--  3861\n",
      "/Users/bregy/Documents/pinsky-three/greenrock/.venv/lib/python3.12/site-packages/nautilus_trader/persistence/loaders.py:63: UserWarning: Could not infer format, so each element will be parsed individually, falling back to `dateutil`. To ensure parsing is consistent and as-expected, please specify a format.\n",
      "  df = pd.read_csv(\n",
      "                         bid_price  ask_price  size\n",
      "20200101 170000065                                 \n",
      "2020-01-01 17:00:10.447    1.12120    1.12192     0\n",
      "2020-01-01 17:00:10.498    1.12117    1.12161     0\n",
      "2020-01-01 17:00:12.579    1.12120    1.12161     0\n",
      "2020-01-01 17:00:12.630    1.12120    1.12172     0\n",
      "2020-01-01 17:00:12.839    1.12120    1.12171     0\n",
      "...                            ...        ...   ...\n",
      "2020-01-31 16:59:53.963    1.10945    1.10961     0\n",
      "2020-01-31 16:59:54.064    1.10945    1.10957     0\n",
      "2020-01-31 16:59:54.711    1.10945    1.10960     0\n",
      "2020-01-31 16:59:55.922    1.10945    1.10952     0\n",
      "2020-01-31 16:59:56.198    1.10944    1.10952     0\n",
      "\n",
      "[1637768 rows x 3 columns]\n",
      "Preparing ticks...\n",
      "Writing data to catalog...\n",
      "Done\n"
     ]
    }
   ],
   "source": [
    "!curl https://raw.githubusercontent.com/nautechsystems/nautilus_data/main/nautilus_data/hist_data_to_catalog.py | python -"
   ]
  },
  {
   "cell_type": "code",
   "execution_count": 1,
   "id": "126d40eb-23fc-4020-9917-c8d30a1dcf00",
   "metadata": {},
   "outputs": [],
   "source": [
    "from nautilus_trader.backtest.node import BacktestDataConfig\n",
    "from nautilus_trader.backtest.node import BacktestEngineConfig\n",
    "from nautilus_trader.backtest.node import BacktestNode\n",
    "from nautilus_trader.backtest.node import BacktestRunConfig\n",
    "from nautilus_trader.backtest.node import BacktestVenueConfig\n",
    "from nautilus_trader.config import ImportableStrategyConfig\n",
    "from nautilus_trader.config import LoggingConfig\n",
    "from nautilus_trader.model import Quantity\n",
    "from nautilus_trader.model import QuoteTick\n",
    "from nautilus_trader.persistence.catalog import ParquetDataCatalog"
   ]
  },
  {
   "cell_type": "code",
   "execution_count": 2,
   "id": "8870c0a9-eba7-46c4-b064-1dfb74a01428",
   "metadata": {},
   "outputs": [
    {
     "data": {
      "text/plain": [
       "[CurrencyPair(id=EUR/USD.SIM, raw_symbol=EUR/USD, asset_class=FX, instrument_class=SPOT, quote_currency=USD, is_inverse=False, price_precision=5, price_increment=0.00001, size_precision=0, size_increment=1, multiplier=1, lot_size=1000, margin_init=0.03, margin_maint=0.03, maker_fee=0.00002, taker_fee=0.00002, info=None)]"
      ]
     },
     "execution_count": 2,
     "metadata": {},
     "output_type": "execute_result"
    }
   ],
   "source": [
    "catalog = ParquetDataCatalog(\"catalog\")\n",
    "catalog.instruments()"
   ]
  },
  {
   "cell_type": "code",
   "execution_count": 3,
   "id": "ff6a5983-ae05-4f5c-825a-c8131b57b2f6",
   "metadata": {},
   "outputs": [],
   "source": [
    "from nautilus_trader.core.message import Event\n",
    "from nautilus_trader.indicators.macd import MovingAverageConvergenceDivergence\n",
    "from nautilus_trader.model import InstrumentId\n",
    "from nautilus_trader.model import Position\n",
    "from nautilus_trader.model.enums import OrderSide\n",
    "from nautilus_trader.model.enums import PositionSide\n",
    "from nautilus_trader.model.enums import PriceType\n",
    "from nautilus_trader.model.events import PositionOpened\n",
    "from nautilus_trader.trading.strategy import Strategy\n",
    "from nautilus_trader.trading.strategy import StrategyConfig\n",
    "\n",
    "\n",
    "class MACDConfig(StrategyConfig):\n",
    "    instrument_id: InstrumentId\n",
    "    fast_period: int = 12\n",
    "    slow_period: int = 26\n",
    "    trade_size: int = 1_000_000\n",
    "    entry_threshold: float = 0.00010\n",
    "\n",
    "\n",
    "class MACDStrategy(Strategy):\n",
    "    def __init__(self, config: MACDConfig):\n",
    "        super().__init__(config=config)\n",
    "        # Our \"trading signal\"\n",
    "        self.macd = MovingAverageConvergenceDivergence(\n",
    "            fast_period=config.fast_period, slow_period=config.slow_period, price_type=PriceType.MID\n",
    "        )\n",
    "\n",
    "        self.trade_size = Quantity.from_int(config.trade_size)\n",
    "\n",
    "        # Convenience\n",
    "        self.position: Position | None = None\n",
    "\n",
    "    def on_start(self):\n",
    "        self.subscribe_quote_ticks(instrument_id=self.config.instrument_id)\n",
    "\n",
    "    def on_stop(self):\n",
    "        self.close_all_positions(self.config.instrument_id)\n",
    "        self.unsubscribe_quote_ticks(instrument_id=self.config.instrument_id)\n",
    "\n",
    "    def on_quote_tick(self, tick: QuoteTick):\n",
    "        # You can register indicators to receive quote tick updates automatically,\n",
    "        # here we manually update the indicator to demonstrate the flexibility available.\n",
    "        self.macd.handle_quote_tick(tick)\n",
    "\n",
    "        if not self.macd.initialized:\n",
    "            return  # Wait for indicator to warm up\n",
    "\n",
    "        # self._log.info(f\"{self.macd.value=}:%5d\")\n",
    "        self.check_for_entry()\n",
    "        self.check_for_exit()\n",
    "\n",
    "    def on_event(self, event: Event):\n",
    "        if isinstance(event, PositionOpened):\n",
    "            self.position = self.cache.position(event.position_id)\n",
    "\n",
    "    def check_for_entry(self):\n",
    "        # If MACD line is above our entry threshold, we should be LONG\n",
    "        if self.macd.value > self.config.entry_threshold:\n",
    "            if self.position and self.position.side == PositionSide.LONG:\n",
    "                return  # Already LONG\n",
    "\n",
    "            order = self.order_factory.market(\n",
    "                instrument_id=self.config.instrument_id,\n",
    "                order_side=OrderSide.BUY,\n",
    "                quantity=self.trade_size,\n",
    "            )\n",
    "            self.submit_order(order)\n",
    "        # If MACD line is below our entry threshold, we should be SHORT\n",
    "        elif self.macd.value < -self.config.entry_threshold:\n",
    "            if self.position and self.position.side == PositionSide.SHORT:\n",
    "                return  # Already SHORT\n",
    "\n",
    "            order = self.order_factory.market(\n",
    "                instrument_id=self.config.instrument_id,\n",
    "                order_side=OrderSide.SELL,\n",
    "                quantity=self.trade_size,\n",
    "            )\n",
    "            self.submit_order(order)\n",
    "\n",
    "    def check_for_exit(self):\n",
    "        # If MACD line is above zero then exit if we are SHORT\n",
    "        if self.macd.value >= 0.0:\n",
    "            if self.position and self.position.side == PositionSide.SHORT:\n",
    "                self.close_position(self.position)\n",
    "        # If MACD line is below zero then exit if we are LONG\n",
    "        else:\n",
    "            if self.position and self.position.side == PositionSide.LONG:\n",
    "                self.close_position(self.position)\n",
    "\n",
    "    def on_dispose(self):\n",
    "        pass  # Do nothing else"
   ]
  },
  {
   "cell_type": "code",
   "execution_count": 11,
   "id": "4efd8a07-36bd-4c8f-912a-8ffdf117dd51",
   "metadata": {},
   "outputs": [],
   "source": [
    "venue = BacktestVenueConfig(\n",
    "    name=\"SIM\",\n",
    "    oms_type=\"NETTING\",\n",
    "    account_type=\"MARGIN\",\n",
    "    base_currency=\"USD\",\n",
    "    starting_balances=[\"1_000_000 USD\"]\n",
    ")"
   ]
  },
  {
   "cell_type": "code",
   "execution_count": 12,
   "id": "09205841-2c85-457a-b8e1-4cb5f972d45d",
   "metadata": {},
   "outputs": [],
   "source": [
    "from nautilus_trader.model import QuoteTick\n",
    "\n",
    "instruments = catalog.instruments()\n",
    "\n",
    "data = BacktestDataConfig(\n",
    "    catalog_path=str(catalog.path),\n",
    "    data_cls=QuoteTick,\n",
    "    instrument_id=instruments[0].id,\n",
    "    end_time=\"2020-01-10\",\n",
    ")"
   ]
  },
  {
   "cell_type": "code",
   "execution_count": 13,
   "id": "0d71b40a-a67b-4b1d-943c-50d55134de78",
   "metadata": {},
   "outputs": [],
   "source": [
    "engine = BacktestEngineConfig(\n",
    "    strategies=[\n",
    "        ImportableStrategyConfig(\n",
    "            strategy_path=\"__main__:MACDStrategy\",\n",
    "            config_path=\"__main__:MACDConfig\",\n",
    "            config={\n",
    "              \"instrument_id\": instruments[0].id,\n",
    "              \"fast_period\": 12,\n",
    "              \"slow_period\": 26,\n",
    "            },\n",
    "        )\n",
    "    ],\n",
    "    logging=LoggingConfig(log_level=\"ERROR\"),\n",
    ")"
   ]
  },
  {
   "cell_type": "code",
   "execution_count": 14,
   "id": "80c234ae-7292-4647-8c6b-46f8675810d1",
   "metadata": {},
   "outputs": [],
   "source": [
    "config = BacktestRunConfig(\n",
    "    engine=engine,\n",
    "    venues=[venue],\n",
    "    data=[data],\n",
    ")"
   ]
  },
  {
   "cell_type": "code",
   "execution_count": 15,
   "id": "ccf8fcbe-303b-4689-95a1-807541251a89",
   "metadata": {},
   "outputs": [],
   "source": [
    "from nautilus_trader.backtest.results import BacktestResult\n",
    "\n",
    "\n",
    "node = BacktestNode(configs=[config])\n",
    "\n",
    " # Runs one or many configs synchronously\n",
    "results: list[BacktestResult] = node.run()"
   ]
  },
  {
   "cell_type": "code",
   "execution_count": null,
   "id": "6b0fe147-802f-450c-86a3-def4c5849aff",
   "metadata": {},
   "outputs": [],
   "source": [
    "from nautilus_trader.backtest.engine import BacktestEngine\n",
    "from nautilus_trader.model import Venue\n",
    "\n",
    "\n",
    "engine: BacktestEngine = node.get_engine(config.id)\n",
    "\n",
    "positions_report = engine.trader.generate_positions_report()\n",
    "\n",
    "account_report = engine.trader.generate_account_report(Venue(\"SIM\"))\n",
    "\n",
    "\n",
    "\n",
    "\n",
    "\n"
   ]
  },
  {
   "cell_type": "code",
   "execution_count": null,
   "id": "0084792a-69ae-4bfa-ad07-1753888f0465",
   "metadata": {},
   "outputs": [],
   "source": []
  },
  {
   "cell_type": "code",
   "execution_count": null,
   "id": "afa6c859-3910-4619-88f3-57e61e37e662",
   "metadata": {},
   "outputs": [],
   "source": []
  },
  {
   "cell_type": "code",
   "execution_count": null,
   "id": "233f5546-8b6d-4358-80ae-a9d1d8c53cf8",
   "metadata": {},
   "outputs": [],
   "source": []
  }
 ],
 "metadata": {
  "kernelspec": {
   "display_name": ".venv",
   "language": "python",
   "name": "python3"
  },
  "language_info": {
   "codemirror_mode": {
    "name": "ipython",
    "version": 3
   },
   "file_extension": ".py",
   "mimetype": "text/x-python",
   "name": "python",
   "nbconvert_exporter": "python",
   "pygments_lexer": "ipython3",
   "version": "3.12.8"
  }
 },
 "nbformat": 4,
 "nbformat_minor": 5
}
